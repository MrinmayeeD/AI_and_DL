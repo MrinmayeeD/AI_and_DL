{
  "nbformat": 4,
  "nbformat_minor": 0,
  "metadata": {
    "colab": {
      "provenance": []
    },
    "kernelspec": {
      "name": "python3",
      "display_name": "Python 3"
    },
    "language_info": {
      "name": "python"
    }
  },
  "cells": [
    {
      "cell_type": "code",
      "execution_count": 1,
      "metadata": {
        "id": "WoR_u5LrfCMt"
      },
      "outputs": [],
      "source": [
        "from collections import deque"
      ]
    },
    {
      "cell_type": "code",
      "source": [
        "# State is represented as (missionaries_left, cannibals_left, boat_position)\n",
        "# boat_position = 1 means the boat is on the starting side, 0 means it's on the other side\n",
        "\n",
        "# Function to check if the state is valid\n",
        "def is_valid_state(state):\n",
        "    missionaries_left, cannibals_left, _ = state\n",
        "    missionaries_right = 3 - missionaries_left\n",
        "    cannibals_right = 3 - cannibals_left\n",
        "\n",
        "    # More cannibals than missionaries on either side is invalid\n",
        "    if (missionaries_left > 0 and cannibals_left > missionaries_left) or \\\n",
        "       (missionaries_right > 0 and cannibals_right > missionaries_right):\n",
        "        return False\n",
        "    return True"
      ],
      "metadata": {
        "id": "_0lHg83bmni3"
      },
      "execution_count": 2,
      "outputs": []
    },
    {
      "cell_type": "code",
      "source": [
        "# Function to generate all possible valid next states\n",
        "def get_successors(state):\n",
        "    successors = []\n",
        "    missionaries_left, cannibals_left, boat_position = state\n",
        "    boat_direction = -1 if boat_position == 1 else 1  # Boat moves to the opposite side\n",
        "\n",
        "    # Possible moves (1 missionary, 1 cannibal), (2 missionaries), etc.\n",
        "    possible_moves = [(1, 0), (0, 1), (1, 1), (2, 0), (0, 2)]\n",
        "\n",
        "    for missionaries, cannibals in possible_moves:\n",
        "        new_missionaries_left = missionaries_left + boat_direction * missionaries\n",
        "        new_cannibals_left = cannibals_left + boat_direction * cannibals\n",
        "        new_state = (new_missionaries_left, new_cannibals_left, 1 - boat_position)\n",
        "        if 0 <= new_missionaries_left <= 3 and 0 <= new_cannibals_left <= 3 and is_valid_state(new_state):\n",
        "            successors.append(new_state)\n",
        "\n",
        "    return successors"
      ],
      "metadata": {
        "id": "WNjRRsGXmqDT"
      },
      "execution_count": 6,
      "outputs": []
    },
    {
      "cell_type": "code",
      "source": [
        "# Function to get user input for the next move\n",
        "def get_user_input(state):\n",
        "    print(\"\\nCurrent state:\")\n",
        "    print(f\"Missionaries Left: {state[0]}, Cannibals Left: {state[1]}, Boat on {'Left' if state[2] == 1 else 'Right'} Side\")\n",
        "\n",
        "    try:\n",
        "        missionaries = int(input(\"Enter number of missionaries to move (0-2): \"))\n",
        "        cannibals = int(input(\"Enter number of cannibals to move (0-2): \"))\n",
        "    except ValueError:\n",
        "        print(\"Invalid input. Please enter integers only.\")\n",
        "        return None\n",
        "\n",
        "    if 0 <= missionaries <= 2 and 0 <= cannibals <= 2 and (missionaries + cannibals) > 0:\n",
        "        return (missionaries, cannibals)\n",
        "    else:\n",
        "        print(\"Invalid move. Try again.\")\n",
        "        return None"
      ],
      "metadata": {
        "id": "fcnB7nygpc-Q"
      },
      "execution_count": 7,
      "outputs": []
    },
    {
      "cell_type": "code",
      "source": [
        "# Main function to run the user-interactive version of the problem solver\n",
        "def play_missionaries_and_cannibals():\n",
        "    state = (3, 3, 1)  # Start with 3 missionaries, 3 cannibals, boat on starting side\n",
        "    goal_state = (0, 0, 0)  # Goal is to get everyone across with boat on the other side\n",
        "\n",
        "    visited = set([state])  # Keep track of visited states\n",
        "\n",
        "    while state != goal_state:\n",
        "        move = None\n",
        "        while move is None:\n",
        "            move = get_user_input(state)\n",
        "\n",
        "        missionaries, cannibals = move\n",
        "        boat_direction = -1 if state[2] == 1 else 1\n",
        "        new_state = (\n",
        "            state[0] + boat_direction * missionaries,\n",
        "            state[1] + boat_direction * cannibals,\n",
        "            1 - state[2]\n",
        "        )\n",
        "\n",
        "        if 0 <= new_state[0] <= 3 and 0 <= new_state[1] <= 3 and is_valid_state(new_state):\n",
        "            state = new_state\n",
        "            if state == goal_state:\n",
        "                print(\"\\nCongratulations! You've successfully moved all missionaries and cannibals to the other side!\")\n",
        "                break\n",
        "            visited.add(state)\n",
        "        else:\n",
        "            print(\"Invalid move. The state is either not allowed or violates the problem constraints. Try again.\")\n",
        "\n",
        "    if state != goal_state:\n",
        "        print(\"\\nGame Over. Better luck next time!\")"
      ],
      "metadata": {
        "id": "2bB7QWCsmvCs"
      },
      "execution_count": 8,
      "outputs": []
    },
    {
      "cell_type": "code",
      "source": [
        "# Start the game\n",
        "play_missionaries_and_cannibals()"
      ],
      "metadata": {
        "colab": {
          "base_uri": "https://localhost:8080/"
        },
        "id": "smeNzaZam0YO",
        "outputId": "f66b6b94-7055-4297-f7bd-05ca02369dba"
      },
      "execution_count": 9,
      "outputs": [
        {
          "output_type": "stream",
          "name": "stdout",
          "text": [
            "\n",
            "Current state:\n",
            "Missionaries Left: 3, Cannibals Left: 3, Boat on Left Side\n",
            "Enter number of missionaries to move (0-2): 2\n",
            "Enter number of cannibals to move (0-2): 2\n",
            "Enter number of missionaries to move (0-2): 2\n",
            "\n",
            "Current state:\n",
            "Missionaries Left: 1, Cannibals Left: 1, Boat on Right Side\n",
            "Enter number of cannibals to move (0-2): 2\n",
            "\n",
            "Current state:\n",
            "Missionaries Left: 3, Cannibals Left: 3, Boat on Left Side\n",
            "Enter number of missionaries to move (0-2): 2\n",
            "Enter number of cannibals to move (0-2): 2\n",
            "\n",
            "Current state:\n",
            "Missionaries Left: 1, Cannibals Left: 1, Boat on Right Side\n",
            "Enter number of missionaries to move (0-2): 2\n",
            "Enter number of cannibals to move (0-2): 2\n",
            "Enter number of missionaries to move (0-2): 2\n",
            "\n",
            "Current state:\n",
            "Missionaries Left: 3, Cannibals Left: 3, Boat on Left Side\n",
            "Enter number of cannibals to move (0-2): 2\n",
            "\n",
            "Current state:\n",
            "Missionaries Left: 1, Cannibals Left: 1, Boat on Right Side\n",
            "Enter number of missionaries to move (0-2): 2\n",
            "Enter number of cannibals to move (0-2): 2\n",
            "\n",
            "Current state:\n",
            "Missionaries Left: 3, Cannibals Left: 3, Boat on Left Side\n",
            "Enter number of missionaries to move (0-2): 2\n",
            "Enter number of cannibals to move (0-2): 2\n",
            "\n",
            "Current state:\n",
            "Missionaries Left: 1, Cannibals Left: 1, Boat on Right Side\n",
            "Enter number of missionaries to move (0-2): 2\n",
            "Enter number of cannibals to move (0-2): 2\n",
            "\n",
            "Current state:\n",
            "Missionaries Left: 3, Cannibals Left: 3, Boat on Left Side\n",
            "Enter number of missionaries to move (0-2): 2\n",
            "Enter number of cannibals to move (0-2): 2\n",
            "\n",
            "Current state:\n",
            "Missionaries Left: 1, Cannibals Left: 1, Boat on Right Side\n",
            "Enter number of missionaries to move (0-2): 2\n",
            "Enter number of cannibals to move (0-2): 2\n",
            "\n",
            "Current state:\n",
            "Missionaries Left: 3, Cannibals Left: 3, Boat on Left Side\n",
            "Enter number of missionaries to move (0-2): 2\n",
            "Enter number of cannibals to move (0-2): 2\n",
            "\n",
            "Current state:\n",
            "Missionaries Left: 1, Cannibals Left: 1, Boat on Right Side\n",
            "Enter number of missionaries to move (0-2): 2\n",
            "Enter number of cannibals to move (0-2): 2\n",
            "\n",
            "Current state:\n",
            "Missionaries Left: 3, Cannibals Left: 3, Boat on Left Side\n",
            "Enter number of missionaries to move (0-2): 2\n",
            "Enter number of cannibals to move (0-2): 2\n",
            "\n",
            "Current state:\n",
            "Missionaries Left: 1, Cannibals Left: 1, Boat on Right Side\n",
            "Enter number of missionaries to move (0-2): 2\n",
            "Enter number of cannibals to move (0-2): 2\n",
            "\n",
            "Current state:\n",
            "Missionaries Left: 3, Cannibals Left: 3, Boat on Left Side\n",
            "Enter number of missionaries to move (0-2): 2\n",
            "Enter number of cannibals to move (0-2): 2\n",
            "\n",
            "Current state:\n",
            "Missionaries Left: 1, Cannibals Left: 1, Boat on Right Side\n",
            "Enter number of missionaries to move (0-2): 1\n",
            "Enter number of cannibals to move (0-2): 1\n",
            "\n",
            "Current state:\n",
            "Missionaries Left: 2, Cannibals Left: 2, Boat on Left Side\n",
            "Enter number of missionaries to move (0-2): 2\n",
            "Enter number of cannibals to move (0-2): 2\n",
            "\n",
            "Congratulations! You've successfully moved all missionaries and cannibals to the other side!\n"
          ]
        }
      ]
    }
  ]
}
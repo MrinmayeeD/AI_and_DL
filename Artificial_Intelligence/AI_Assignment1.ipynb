{
  "nbformat": 4,
  "nbformat_minor": 0,
  "metadata": {
    "colab": {
      "provenance": []
    },
    "kernelspec": {
      "name": "python3",
      "display_name": "Python 3"
    },
    "language_info": {
      "name": "python"
    }
  },
  "cells": [
    {
      "cell_type": "code",
      "execution_count": 1,
      "metadata": {
        "id": "2VlCO51zLaby"
      },
      "outputs": [],
      "source": [
        "from collections import deque"
      ]
    },
    {
      "cell_type": "code",
      "source": [
        "# Possible moves: up, down, left, right\n",
        "moves = [(0, 1), (1, 0), (0, -1), (-1, 0)]"
      ],
      "metadata": {
        "id": "FPpRv81hLhmy"
      },
      "execution_count": 2,
      "outputs": []
    },
    {
      "cell_type": "code",
      "source": [
        "def is_valid(x, y):\n",
        "    return 0 <= x < 3 and 0 <= y < 3"
      ],
      "metadata": {
        "id": "AKL00ccPLpuL"
      },
      "execution_count": 3,
      "outputs": []
    },
    {
      "cell_type": "code",
      "source": [
        "def bfs(start, goal):\n",
        "    queue = deque([start])\n",
        "    visited = set()\n",
        "    visited.add(tuple(map(tuple, start)))\n",
        "\n",
        "    while queue:\n",
        "        state = queue.popleft()\n",
        "\n",
        "        if state == goal:\n",
        "            return state\n",
        "\n",
        "        zero_pos = [(ix, iy) for ix, row in enumerate(state) for iy, i in enumerate(row) if i == 0][0]\n",
        "        x, y = zero_pos\n",
        "\n",
        "        for move in moves:\n",
        "            new_x, new_y = x + move[0], y + move[1]\n",
        "\n",
        "            if is_valid(new_x, new_y):\n",
        "                new_state = [row[:] for row in state]\n",
        "                new_state[x][y], new_state[new_x][new_y] = new_state[new_x][new_y], new_state[x][y]\n",
        "\n",
        "                if tuple(map(tuple, new_state)) not in visited:\n",
        "                    visited.add(tuple(map(tuple, new_state)))\n",
        "                    queue.append(new_state)\n",
        "\n",
        "    return None  # No solution found"
      ],
      "metadata": {
        "id": "Nc5wM3a1Lqj-"
      },
      "execution_count": 4,
      "outputs": []
    },
    {
      "cell_type": "code",
      "source": [
        "start = [[1, 2, 3], [4, 0, 5], [6, 7, 8]]\n",
        "goal = [[1, 2, 3], [4, 5, 6], [7, 8, 0]]\n",
        "result = bfs(start, goal)\n",
        "print(result)"
      ],
      "metadata": {
        "colab": {
          "base_uri": "https://localhost:8080/"
        },
        "id": "BE7kztSALyHx",
        "outputId": "5292b232-4981-49b4-ea71-197a817fed10"
      },
      "execution_count": 5,
      "outputs": [
        {
          "output_type": "stream",
          "name": "stdout",
          "text": [
            "[[1, 2, 3], [4, 5, 6], [7, 8, 0]]\n"
          ]
        }
      ]
    },
    {
      "cell_type": "code",
      "source": [
        "import sys\n",
        "sys.setrecursionlimit(4000)"
      ],
      "metadata": {
        "id": "4Xc46BlMMi_C"
      },
      "execution_count": 6,
      "outputs": []
    },
    {
      "cell_type": "code",
      "source": [
        "def dfs_iterative(start, goal):\n",
        "    stack = [start]\n",
        "    visited = set()\n",
        "    visited.add(tuple(map(tuple, start)))\n",
        "\n",
        "    while stack:\n",
        "        state = stack.pop()\n",
        "\n",
        "        if state == goal:\n",
        "            return state\n",
        "\n",
        "        zero_pos = [(ix, iy) for ix, row in enumerate(state) for iy, i in enumerate(row) if i == 0][0]\n",
        "        x, y = zero_pos\n",
        "\n",
        "        for move in moves:\n",
        "            new_x, new_y = x + move[0], y + move[1]\n",
        "\n",
        "            if is_valid(new_x, new_y):\n",
        "                new_state = [row[:] for row in state]\n",
        "                new_state[x][y], new_state[new_x][new_y] = new_state[new_x][new_y], new_state[x][y]\n",
        "\n",
        "                if tuple(map(tuple, new_state)) not in visited:\n",
        "                    visited.add(tuple(map(tuple, new_state)))\n",
        "                    stack.append(new_state)\n",
        "\n",
        "    return None  # No solution found"
      ],
      "metadata": {
        "id": "mCIoDFBiMFBJ"
      },
      "execution_count": 7,
      "outputs": []
    },
    {
      "cell_type": "code",
      "source": [
        "start = [[1, 2, 3], [4, 0, 5], [6, 7, 8]]\n",
        "goal = [[1, 2, 3], [4, 5, 6], [7, 8, 0]]\n",
        "result = dfs_iterative(start, goal)\n",
        "print(result)"
      ],
      "metadata": {
        "colab": {
          "base_uri": "https://localhost:8080/"
        },
        "id": "jTrj6viBMJt4",
        "outputId": "4d93b551-1be1-41b4-e4ca-b7883d5794a6"
      },
      "execution_count": 8,
      "outputs": [
        {
          "output_type": "stream",
          "name": "stdout",
          "text": [
            "[[1, 2, 3], [4, 5, 6], [7, 8, 0]]\n"
          ]
        }
      ]
    }
  ]
}